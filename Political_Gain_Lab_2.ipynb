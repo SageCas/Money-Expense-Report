{
  "nbformat": 4,
  "nbformat_minor": 0,
  "metadata": {
    "colab": {
      "provenance": [],
      "include_colab_link": true
    },
    "kernelspec": {
      "name": "python3",
      "display_name": "Python 3"
    },
    "language_info": {
      "name": "python"
    }
  },
  "cells": [
    {
      "cell_type": "markdown",
      "metadata": {
        "id": "view-in-github",
        "colab_type": "text"
      },
      "source": [
        "<a href=\"https://colab.research.google.com/github/SageCas/Money-Expense-Report/blob/main/Political_Gain_Lab_2.ipynb\" target=\"_parent\"><img src=\"https://colab.research.google.com/assets/colab-badge.svg\" alt=\"Open In Colab\"/></a>"
      ]
    },
    {
      "cell_type": "code",
      "execution_count": null,
      "metadata": {
        "id": "HiqJb6Xz3OdS"
      },
      "outputs": [],
      "source": [
        "import pandas as pd\n",
        "import matplotlib.pyplot as plt\n"
      ]
    },
    {
      "cell_type": "code",
      "source": [
        "pd.set_option('display.max_rows', None)"
      ],
      "metadata": {
        "id": "7TtRX6j8eVhx"
      },
      "execution_count": null,
      "outputs": []
    },
    {
      "cell_type": "code",
      "source": [
        "data = 'https://raw.githubusercontent.com/kmath22/kmath22/main/Senate_Networth_CSV.csv'\n",
        "\n",
        "df = pd.read_csv(data)\n",
        "\n",
        "df"
      ],
      "metadata": {
        "id": "8hin4KGr3TLP"
      },
      "execution_count": null,
      "outputs": []
    },
    {
      "cell_type": "code",
      "source": [
        "df.info()"
      ],
      "metadata": {
        "id": "IbVN5gzxph4h"
      },
      "execution_count": null,
      "outputs": []
    },
    {
      "cell_type": "code",
      "source": [
        "#Create a Two Way using pd.crosstab\n",
        "pd.crosstab(df['Party'], df['chamber'])\n"
      ],
      "metadata": {
        "id": "mSpzoKs87Ej1"
      },
      "execution_count": null,
      "outputs": []
    },
    {
      "cell_type": "code",
      "source": [
        "#Create a Two Way with margin (margin = True)\n",
        "pd.crosstab(df['Party'], df['chamber'], margins = True)"
      ],
      "metadata": {
        "id": "h3uWVIpc7ugv"
      },
      "execution_count": null,
      "outputs": []
    },
    {
      "cell_type": "code",
      "source": [
        "# Create a Two Way table with normalized\n",
        "pd.crosstab(df['Party'], df['chamber'], margins = True, normalize = True).round(3)"
      ],
      "metadata": {
        "id": "NwNft1FA7_bZ"
      },
      "execution_count": null,
      "outputs": []
    },
    {
      "cell_type": "code",
      "source": [
        "# Create a Two Way table with normalized columns\n",
        "pd.crosstab(df['Party'], df['chamber'], margins = True, normalize = 'columns')"
      ],
      "metadata": {
        "id": "mmvc4WsY-DH6"
      },
      "execution_count": null,
      "outputs": []
    },
    {
      "cell_type": "code",
      "source": [
        "# Create a Two Way table with normalized rows (index)\n"
      ],
      "metadata": {
        "id": "3NKJgTzPt2Mi"
      },
      "execution_count": null,
      "outputs": []
    },
    {
      "cell_type": "code",
      "source": [
        "#Create a two way table of Chamber and category of gain or loss.\n"
      ],
      "metadata": {
        "id": "IYWJarb-uHeH"
      },
      "execution_count": null,
      "outputs": []
    },
    {
      "cell_type": "code",
      "source": [
        "#Create a stacked bar graph of Chamber and Category of gain.\n",
        "\n"
      ],
      "metadata": {
        "id": "agf-aXYauczO"
      },
      "execution_count": null,
      "outputs": []
    },
    {
      "cell_type": "code",
      "source": [
        "\n",
        "#Mosaic Plot\n",
        "from statsmodels.graphics.mosaicplot import mosaic\n"
      ],
      "metadata": {
        "id": "DUhKCDB2uhG8"
      },
      "execution_count": null,
      "outputs": []
    },
    {
      "cell_type": "code",
      "source": [
        "#Create a Mosaic Plot of Chamber and Category of gain.\n",
        "plt.rcParams[\"figure.figsize\"]=(15, 5)\n",
        "mosaic(df, ['category','chamber'])\n"
      ],
      "metadata": {
        "id": "xTRyLZPgwzKB"
      },
      "execution_count": null,
      "outputs": []
    },
    {
      "cell_type": "code",
      "source": [],
      "metadata": {
        "id": "CPOjdaP50myZ"
      },
      "execution_count": null,
      "outputs": []
    }
  ]
}