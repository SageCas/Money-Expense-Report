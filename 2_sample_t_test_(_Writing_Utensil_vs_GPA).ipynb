{
  "nbformat": 4,
  "nbformat_minor": 0,
  "metadata": {
    "colab": {
      "provenance": [],
      "include_colab_link": true
    },
    "kernelspec": {
      "name": "python3",
      "display_name": "Python 3"
    },
    "language_info": {
      "name": "python"
    }
  },
  "cells": [
    {
      "cell_type": "markdown",
      "metadata": {
        "id": "view-in-github",
        "colab_type": "text"
      },
      "source": [
        "<a href=\"https://colab.research.google.com/github/SageCas/Money-Expense-Report/blob/main/2_sample_t_test_(_Writing_Utensil_vs_GPA).ipynb\" target=\"_parent\"><img src=\"https://colab.research.google.com/assets/colab-badge.svg\" alt=\"Open In Colab\"/></a>"
      ]
    },
    {
      "cell_type": "code",
      "execution_count": null,
      "metadata": {
        "id": "tVbY7wQFoqVS"
      },
      "outputs": [],
      "source": [
        "import pandas as pd\n",
        "import seaborn as sns\n",
        "import matplotlib.pyplot as plt"
      ]
    },
    {
      "cell_type": "code",
      "source": [
        "link = 'https://raw.githubusercontent.com/kmath22/kmath22/main/Copy%20of%20Survey%20example%20%232%20(Responses)%20-%20Form%20Responses%201.csv'\n",
        "\n",
        "df = pd.read_csv(link)\n",
        "df.head()"
      ],
      "metadata": {
        "id": "ijbNXQCLo3BI"
      },
      "execution_count": null,
      "outputs": []
    },
    {
      "cell_type": "markdown",
      "source": [
        "## Graphs and Analysis"
      ],
      "metadata": {
        "id": "vZmKkPVvtCAI"
      }
    },
    {
      "cell_type": "code",
      "source": [
        "pip install researchpy"
      ],
      "metadata": {
        "id": "ZWwpI8avsWp1"
      },
      "execution_count": null,
      "outputs": []
    },
    {
      "cell_type": "code",
      "source": [
        "import researchpy as rp"
      ],
      "metadata": {
        "id": "bSz3W5-Ns-V3"
      },
      "execution_count": null,
      "outputs": []
    },
    {
      "cell_type": "code",
      "source": [
        "rp.summary_cont(df.groupby('Writing_utensil')['GPA'])"
      ],
      "metadata": {
        "id": "XWr_NSWMtBYm"
      },
      "execution_count": null,
      "outputs": []
    },
    {
      "cell_type": "code",
      "source": [
        "from seaborn.distributions import kdeplot\n",
        "sns.displot(x='GPA', col = 'Writing_utensil' , data = df)"
      ],
      "metadata": {
        "id": "p7f3ApyHpvkr"
      },
      "execution_count": null,
      "outputs": []
    },
    {
      "cell_type": "code",
      "source": [
        "sns.boxplot(x ='GPA' , y = 'Writing_utensil', showmeans = True, data =df)"
      ],
      "metadata": {
        "id": "y4iN77Dtrfs1"
      },
      "execution_count": null,
      "outputs": []
    },
    {
      "cell_type": "code",
      "source": [
        "sns.catplot(x = 'Writing_utensil' , y = 'GPA' , data = df)\n"
      ],
      "metadata": {
        "id": "UggbPPcH-Z_9"
      },
      "execution_count": null,
      "outputs": []
    },
    {
      "cell_type": "code",
      "source": [
        "sns.catplot(x = 'Writing_utensil' , y = 'GPA' , data = df, kind = 'point')"
      ],
      "metadata": {
        "id": "iJsfDIpg-pwX"
      },
      "execution_count": null,
      "outputs": []
    },
    {
      "cell_type": "code",
      "source": [
        "sns.pointplot(y = 'Writing_utensil' , x = 'GPA' , data = df , join = False)"
      ],
      "metadata": {
        "id": "6gYdiaLe-2V1"
      },
      "execution_count": null,
      "outputs": []
    },
    {
      "cell_type": "code",
      "source": [
        "sns.pointplot(y = 'Writing_utensil' , x = 'GPA' , data = df, color = 'r', capsize=.2, join = False)"
      ],
      "metadata": {
        "id": "npen2Gv-BWEW"
      },
      "execution_count": null,
      "outputs": []
    },
    {
      "cell_type": "code",
      "source": [
        "sns.stripplot(y = 'Writing_utensil' , x = 'GPA' , data = df,dodge=True )\n",
        "sns.pointplot(y = 'Writing_utensil' , x = 'GPA' , data = df, color = 'r', capsize=.2 )"
      ],
      "metadata": {
        "id": "aa9_44KVAlTU"
      },
      "execution_count": null,
      "outputs": []
    },
    {
      "cell_type": "markdown",
      "source": [
        "# **Check for Normality**"
      ],
      "metadata": {
        "id": "L9YvFvuHqjpt"
      }
    },
    {
      "cell_type": "code",
      "source": [
        "Pen =  df.loc[df['Writing_utensil'] == 'Pen']\n",
        "Pencil =  df.loc[df['Writing_utensil'] == 'Pencil']"
      ],
      "metadata": {
        "id": "1flgs2INcPFE"
      },
      "execution_count": null,
      "outputs": []
    },
    {
      "cell_type": "code",
      "source": [
        "import scipy.stats as stats"
      ],
      "metadata": {
        "id": "3fykdOLS1Rjc"
      },
      "execution_count": null,
      "outputs": []
    },
    {
      "cell_type": "code",
      "source": [
        "stats.probplot(Pen['GPA'], dist=\"norm\", plot=plt)\n",
        "plt.show()"
      ],
      "metadata": {
        "id": "jQjpbv9W1KDZ"
      },
      "execution_count": null,
      "outputs": []
    },
    {
      "cell_type": "code",
      "source": [
        "stats.probplot(Pencil['GPA'], dist=\"norm\", plot=plt)\n",
        "plt.show()"
      ],
      "metadata": {
        "id": "zqu8fwW0cRTn"
      },
      "execution_count": null,
      "outputs": []
    },
    {
      "cell_type": "code",
      "source": [],
      "metadata": {
        "id": "3nB2BzIx1Y8n"
      },
      "execution_count": null,
      "outputs": []
    },
    {
      "cell_type": "markdown",
      "source": [
        "# 2 Sample t Test"
      ],
      "metadata": {
        "id": "-bXCeEtZcXXC"
      }
    },
    {
      "cell_type": "code",
      "source": [
        "summary, results = rp.ttest(group1= df['GPA'][df['Writing_utensil'] == 'Pencil'], group1_name= \"Pencil\",\n",
        "                            group2= df['GPA'][df['Writing_utensil'] == 'Pen'], group2_name= \"Pen\")"
      ],
      "metadata": {
        "id": "p-dmbEpGt2sd",
        "colab": {
          "base_uri": "https://localhost:8080/"
        },
        "outputId": "d54d36a4-22bc-4baf-9922-50acae14c1f8"
      },
      "execution_count": null,
      "outputs": [
        {
          "output_type": "stream",
          "name": "stderr",
          "text": [
            "/usr/local/lib/python3.10/dist-packages/researchpy/ttest.py:301: FutureWarning: Setting an item of incompatible dtype is deprecated and will raise an error in a future version of pandas. Value 'Pencil' has dtype incompatible with float64, please explicitly cast to a compatible dtype first.\n",
            "  table.iloc[0,0] = group1_name\n",
            "/usr/local/lib/python3.10/dist-packages/researchpy/ttest.py:460: FutureWarning: Setting an item of incompatible dtype is deprecated and will raise an error in a future version of pandas. Value 'Difference (Pencil - Pen) = ' has dtype incompatible with float64, please explicitly cast to a compatible dtype first.\n",
            "  table2.iloc[0,0] = f\"Difference ({group1_name} - {group2_name}) = \"\n"
          ]
        }
      ]
    },
    {
      "cell_type": "code",
      "source": [
        "print(summary)"
      ],
      "metadata": {
        "id": "RR349oDKuU0s"
      },
      "execution_count": null,
      "outputs": []
    },
    {
      "cell_type": "code",
      "source": [
        "print(results)"
      ],
      "metadata": {
        "id": "XmKAf3ccudev"
      },
      "execution_count": null,
      "outputs": []
    }
  ]
}