{
  "nbformat": 4,
  "nbformat_minor": 0,
  "metadata": {
    "colab": {
      "provenance": [],
      "include_colab_link": true
    },
    "kernelspec": {
      "name": "python3",
      "display_name": "Python 3"
    },
    "language_info": {
      "name": "python"
    }
  },
  "cells": [
    {
      "cell_type": "markdown",
      "metadata": {
        "id": "view-in-github",
        "colab_type": "text"
      },
      "source": [
        "<a href=\"https://colab.research.google.com/github/SageCas/Money-Expense-Report/blob/main/Confidence_Interval_Lab_1_2.ipynb\" target=\"_parent\"><img src=\"https://colab.research.google.com/assets/colab-badge.svg\" alt=\"Open In Colab\"/></a>"
      ]
    },
    {
      "cell_type": "code",
      "execution_count": 1,
      "metadata": {
        "id": "ucZvjg8-vLID"
      },
      "outputs": [],
      "source": [
        "import pandas as pd\n",
        "import seaborn as sns\n",
        "import matplotlib.pyplot as plt"
      ]
    },
    {
      "cell_type": "code",
      "source": [
        "\n",
        "data = 'https://raw.githubusercontent.com/kmath22/kmath22/main/Cereal.csv'\n",
        "cereal_df = pd.read_csv(data)\n",
        "\n",
        "cereal_df\n"
      ],
      "metadata": {
        "id": "tw2czeIAvu2m"
      },
      "execution_count": null,
      "outputs": []
    },
    {
      "cell_type": "code",
      "source": [
        "cereal_df['Sodium'].describe().round(2)"
      ],
      "metadata": {
        "id": "0dZKPMg7v-Ea"
      },
      "execution_count": null,
      "outputs": []
    },
    {
      "cell_type": "code",
      "source": [
        "sns.histplot(x ='Sodium' , data= cereal_df, kde = True)\n"
      ],
      "metadata": {
        "id": "FJHpRgjLwMxh"
      },
      "execution_count": null,
      "outputs": []
    },
    {
      "cell_type": "code",
      "source": [
        "sns.boxplot(x ='Sodium' , data= cereal_df)\n"
      ],
      "metadata": {
        "id": "CNbix-Myyfu6"
      },
      "execution_count": null,
      "outputs": []
    },
    {
      "cell_type": "code",
      "source": [
        "plt.figure(figsize=(10,5))\n",
        "sns.stripplot(x ='Sodium', data = cereal_df, size=7)\n",
        "sns.pointplot(x='Sodium', data = cereal_df, capsize=0.2, errorbar=('ci' , 95), color ='r')"
      ],
      "metadata": {
        "id": "uBlPb7CxsYbO"
      },
      "execution_count": null,
      "outputs": []
    },
    {
      "cell_type": "code",
      "source": [
        "pip install researchpy"
      ],
      "metadata": {
        "id": "WEiq1U9ay4ak"
      },
      "execution_count": null,
      "outputs": []
    },
    {
      "cell_type": "code",
      "source": [
        "import researchpy as rp"
      ],
      "metadata": {
        "id": "8YvR-Sn-y0S0"
      },
      "execution_count": null,
      "outputs": []
    },
    {
      "cell_type": "code",
      "source": [
        "rp.summary_cont( cereal_df['Sodium'])"
      ],
      "metadata": {
        "id": "VuBYQdcVy7Xl"
      },
      "execution_count": null,
      "outputs": []
    },
    {
      "cell_type": "code",
      "source": [
        "rp.summary_cont(cereal_df.groupby('Company')['Sodium'])"
      ],
      "metadata": {
        "id": "fCkJ1TB_YYaP"
      },
      "execution_count": null,
      "outputs": []
    },
    {
      "cell_type": "code",
      "source": [
        "plt.figure(figsize=(10,5))\n",
        "sns.stripplot(x ='Sodium', y ='Company', data = cereal_df, size=7)\n",
        "sns.pointplot(x='Sodium', y ='Company', data = cereal_df, capsize=0.2, errorbar=('ci' , 95), color ='r', join = False)\n",
        "plt.axvline( x = 220 , color = 'g', linestyle=\":\")"
      ],
      "metadata": {
        "id": "T2IUiHwoXaRa"
      },
      "execution_count": null,
      "outputs": []
    },
    {
      "cell_type": "markdown",
      "source": [
        "# **Part 2: **"
      ],
      "metadata": {
        "id": "MCKriUSy4POs"
      }
    },
    {
      "cell_type": "code",
      "source": [],
      "metadata": {
        "id": "KTad7hGwVzx6"
      },
      "execution_count": null,
      "outputs": []
    }
  ]
}